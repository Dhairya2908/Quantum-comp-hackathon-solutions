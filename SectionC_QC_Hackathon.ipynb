{
 "cells": [
  {
   "cell_type": "markdown",
   "metadata": {},
   "source": [
    "# Challenge Tier - III\n",
    "## Quantum Machine Learning\n",
    "\n",
    "### Introduction\n",
    "Machine Learning has been the buzz word for the past few years and the reason being the development of the better algorithms and the increase in the computation power over these years. Also, in the field of quantum computing there are algorithms known as Variational algorithms, which are based on optimizing the parameters of a circuit, using a classical control.These also have applications in quantum computing and especially in the area of Quantum Machine Learning(QML).\n",
    "\n",
    "### What is Machine Learning?\n",
    "Machine Learning is a system of computer algorithms that can learn from example through self-improvement without being explicitly coded by a programmer. Machine learning is a part of artificial Intelligence which combines data with statistical tools to predict an output which can be used to make actionable insights.\n",
    "The basic premise of machine learning is to build algorithms that can receive input data and use statistical analysis to predict an output while updating outputs as new data becomes available.\n",
    "\n",
    "These days there are lot of available libraries that provide you with the algorithms which you may directly use for the ML problems. They require an appropriate choice of the algorithm to be used, dataset to be analyzed and it returns with a model, which you may use.\n",
    "\n",
    "### Why is there a need of QML?\n",
    "The classical Machine Learning problem has two major limitations:\n",
    "1. The classical ML lagos might be slow and might get affected by the huge amount of training data. The training time required for the best algorithms available would be high, when the volume of data is huge. If this data is quantum in nature, the quantum computer can outrun the classical computers.\n",
    "2. The second limitation is that for increasing the degrees of freedom the number of classical bits should also increase accordingly. This can be tackled by using the quantum property of superposition. Using superposition we can encode more information efficiently and thus giving us a better result with fewer resources."
   ]
  },
  {
   "cell_type": "markdown",
   "metadata": {},
   "source": [
    "## Problem\n",
    "#### (This is an open-ended problem)\n",
    "The main aim of the challenge is to play with QML models, and use them for various classification tasks on classical datasets.\n",
    "\n",
    "There are three stages in a QML circuit:\n",
    "1. Encoding/Embedding the data\n",
    "2. Parameterized Quantum Circuits and measurement\n",
    "3. Optimizing the parameters using classical optimizer\n",
    "\n",
    "There can be alterations to the 3-stage structure too, and various approaches with the embedding of data.\n",
    "\n",
    "### Task 1(Tutorial)\n",
    "Classification task on the existing Iris dataset [Iris dataset](https://archive.ics.uci.edu/ml/datasets/iris), using the QML methods described in the tutorial we will classify the Iris dataset.\n",
    "You may follow this [tutorial](https://pennylane.ai/qml/demos/tutorial_variational_classifier.html#id3), so that you yourselves acquianted with the implementation of a QML model on a real world dataset.\n",
    "##### NOTE:\n",
    "You need to experiment with various different circuits (any stage encoding/PQC) other than the ones given in the tutorial, and you have to submit the various findings for the same dataset(Iris).  \n",
    "##### BONUS :  if you showcase your findings using graphs, curves and various metrics."
   ]
  },
  {
   "cell_type": "markdown",
   "metadata": {},
   "source": [
    "### Task 2(Final Task)\n",
    "There is another popular dataset prevalent in Computer Vision, which is the [MNIST Dataset](https://www.kaggle.com/c/digit-recognizer/data). This dataset is generally used to check the correctness of a CV model.This dataset is more difficult than the Iris dataset, since it has more classes and has a high dimensionality of 784.\n",
    "\n",
    "Your task is to make a QML model to carry out the classification task for the MNIST Dataset and document your findings and steps, using minimum number of qubits. Present your findings along with proper documentation, graphs and explanation."
   ]
  },
  {
   "cell_type": "markdown",
   "metadata": {},
   "source": []
  },
  {
   "cell_type": "code",
   "execution_count": null,
   "metadata": {},
   "outputs": [],
   "source": []
  }
 ],
 "metadata": {
  "kernelspec": {
   "display_name": "Python 3",
   "language": "python",
   "name": "python3"
  },
  "language_info": {
   "codemirror_mode": {
    "name": "ipython",
    "version": 3
   },
   "file_extension": ".py",
   "mimetype": "text/x-python",
   "name": "python",
   "nbconvert_exporter": "python",
   "pygments_lexer": "ipython3",
   "version": "3.7.4"
  }
 },
 "nbformat": 4,
 "nbformat_minor": 5
}
